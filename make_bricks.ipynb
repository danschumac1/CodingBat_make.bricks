{
 "cells": [
  {
   "cell_type": "markdown",
   "id": "18191ce1",
   "metadata": {},
   "source": [
    "# Logic-2 > make_bricks"
   ]
  },
  {
   "cell_type": "markdown",
   "id": "1d356c19",
   "metadata": {},
   "source": [
    "We want to make a row of bricks that is goal inches long. We have a number of small bricks (1 inch each) and big bricks (5 inches each). Return True if it is possible to make the goal by choosing from the given bricks. This is a little harder than it looks and can be done without any loops. See also: Introduction to MakeBricks\n",
    "\n",
    "\n",
    "make_bricks(3, 1, 8) → True\n",
    "\n",
    "make_bricks(3, 1, 9) → False\n",
    "\n",
    "make_bricks(3, 2, 10) → True"
   ]
  },
  {
   "cell_type": "code",
   "execution_count": null,
   "id": "a596f7d6",
   "metadata": {},
   "outputs": [],
   "source": [
    "def make_bricks(small, big, goal):\n",
    "  \n",
    "  smalls_needed = (goal%5)\n",
    "  \n",
    "  #takes care of not having enough smalls to get to exact spot\n",
    "  if smalls_needed>small:\n",
    "    return False\n",
    "  \n",
    "  #otherwise use smalls to round down to nearest five\n",
    "  #adjust goal and smalls left\n",
    "  else:\n",
    "    goal-=smalls_needed\n",
    "    small-=smalls_needed\n",
    "    \n",
    "    #now that our goal is divisable by 5, we can use them as bigs\n",
    "    if small>=5:\n",
    "      small-=small%5\n",
    "      big += small/5\n",
    "    else:\n",
    "      pass\n",
    "    \n",
    "    #see if you have enough big bricks to reach the goal.\n",
    "    if big*5>=goal:\n",
    "      return True\n",
    "    else:\n",
    "      return False"
   ]
  }
 ],
 "metadata": {
  "kernelspec": {
   "display_name": "Python 3 (ipykernel)",
   "language": "python",
   "name": "python3"
  },
  "language_info": {
   "codemirror_mode": {
    "name": "ipython",
    "version": 3
   },
   "file_extension": ".py",
   "mimetype": "text/x-python",
   "name": "python",
   "nbconvert_exporter": "python",
   "pygments_lexer": "ipython3",
   "version": "3.9.12"
  }
 },
 "nbformat": 4,
 "nbformat_minor": 5
}
